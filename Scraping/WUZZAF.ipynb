{
 "cells": [
  {
   "cell_type": "code",
   "execution_count": 2,
   "metadata": {},
   "outputs": [],
   "source": [
    "import requests\n",
    "from bs4 import BeautifulSoup"
   ]
  },
  {
   "cell_type": "code",
   "execution_count": null,
   "metadata": {},
   "outputs": [],
   "source": [
    "\n",
    "page_number=0\n",
    "links=[]\n",
    "locations =[]\n",
    "comapany_names=[]\n",
    "descriptions = []\n",
    "data = []\n",
    "while True:\n",
    "    request = requests.get(f'https://wuzzuf.net/search/jobs/?a=navbg&q=data%20science&start={page_number}')\n",
    "    soup = BeautifulSoup(request.content,'html.parser')\n",
    "\n",
    "    styles = soup.find('style')\n",
    "    for style in styles:\n",
    "        style.extract()\n",
    "\n",
    "    \n",
    "    all_jobs = soup.find_all('div',attrs={'class':'css-pkv5jc'})\n",
    "\n",
    "    for job in all_jobs:\n",
    "        link = job.find('a', attrs={'target':'_blank','class':'css-o171kl'}).get('href')\n",
    "        title= job.find('a',attrs={'target':'_blank','class':'css-o171kl'}).get_text()\n",
    "        address= job.find('span',attrs={'class':'css-5wys0k'}).get_text().strip()\n",
    "        comapany_name = job.find('a',attrs={'target':'_blank','class':'css-17s97q8'}).get_text()\n",
    "        description = job.find('div',attrs={'class':'css-y4udm8'}).get_text()\n",
    "\n",
    "        links.append(link)\n",
    "        titles.append(title)\n",
    "        locations.append(address)\n",
    "        comapany_names.append(comapany_name)\n",
    "        descriptions.append(description)\n",
    "        data.append([link,title,address,comapany_name,description])\n",
    "\n",
    "\n",
    "    current_number = int(soup.find('li',attrs={'class':'css-8neukt'}).get_text().split('-')[1].split('of')[0])\n",
    "    last_number = int(soup.find('li',attrs={'class':'css-8neukt'}).get_text().split('-')[1].split('of')[1])\n",
    "   \n",
    "   \n",
    "\n",
    "    if current_number == last_number:\n",
    "        break\n",
    "\n",
    "    page_number+=1 \n",
    "    "
   ]
  },
  {
   "cell_type": "code",
   "execution_count": 83,
   "metadata": {},
   "outputs": [],
   "source": [
    "import csv\n",
    "from email import header\n",
    "\n",
    "\n",
    "with open('jobs.csv','w',encoding=\"utf-8\") as fid:\n",
    "    writer = csv.writer(fid)\n",
    "    header = ['link','title','location','comapany name','description']\n",
    "    writer.writerow(header)\n",
    "    writer.writerows(data)"
   ]
  },
  {
   "cell_type": "code",
   "execution_count": null,
   "metadata": {},
   "outputs": [],
   "source": []
  }
 ],
 "metadata": {
  "kernelspec": {
   "display_name": "Python 3.9.4 64-bit",
   "language": "python",
   "name": "python3"
  },
  "language_info": {
   "codemirror_mode": {
    "name": "ipython",
    "version": 3
   },
   "file_extension": ".py",
   "mimetype": "text/x-python",
   "name": "python",
   "nbconvert_exporter": "python",
   "pygments_lexer": "ipython3",
   "version": "3.9.4"
  },
  "orig_nbformat": 4,
  "vscode": {
   "interpreter": {
    "hash": "25a10832b30ad5254511a440a1ef993e34266d2aebbca131e72df7be81dadb03"
   }
  }
 },
 "nbformat": 4,
 "nbformat_minor": 2
}
